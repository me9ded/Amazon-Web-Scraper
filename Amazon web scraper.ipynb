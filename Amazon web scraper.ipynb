{
 "cells": [
  {
   "cell_type": "code",
   "execution_count": 1,
   "id": "df31aaab-193e-444c-a52d-a69dfb0a9870",
   "metadata": {},
   "outputs": [],
   "source": [
    "# import libraries\n",
    "from bs4 import BeautifulSoup\n",
    "import requests\n",
    "import time\n",
    "import datetime\n",
    "\n",
    "import smtplib\n"
   ]
  },
  {
   "cell_type": "code",
   "execution_count": 23,
   "id": "5649401c-f50f-4ef9-9f51-a5df1addbd36",
   "metadata": {},
   "outputs": [],
   "source": [
    "# this line is to connect to the url\n",
    "URL = 'https://www.amazon.com/Funny-Data-Systems-Business-Analyst/dp/B07FNW9FGJ/ref=sr_1_3?dchild=1&keywords=data%2Banalyst%2Btshirt&qid=1626655184&sr=8-3&customId=B0752XJYNL&th=1'\n",
    "\n",
    "headers={\"Accept\": \"text/html,application/xhtml+xml,application/xml;q=0.9,image/avif,image/webp,image/apng,*/*;q=0.8,application/signed-exchange;v=b3;q=0.7\", \n",
    "    \"Accept-Encoding\": \"gzip, deflate, br, zstd\", \n",
    "    \"Accept-Language\": \"en-US,en;q=0.9,ar-TN;q=0.8,ar;q=0.7\", \n",
    "    \"User-Agent\": \"Mozilla/5.0 (Macintosh; Intel Mac OS X 10_15_7) AppleWebKit/537.36 (KHTML, like Gecko) Chrome/125.0.0.0 Safari/537.36\", \n",
    "    }\n",
    "\n",
    "page = requests.get(URL, headers=headers)\n",
    "\n",
    "\n",
    "soup1 = BeautifulSoup(page.content, \"html.parser\")\n",
    "\n",
    "soup2 = BeautifulSoup(soup1.prettify(),\"html.parser\")\n",
    "\n",
    "title = soup2.find(id='productTitle').get_text()\n"
   ]
  },
  {
   "cell_type": "code",
   "execution_count": 19,
   "id": "6f2e6e53",
   "metadata": {},
   "outputs": [],
   "source": [
    "#this is to clean our data a little bit\n",
    "title=title.strip()"
   ]
  },
  {
   "cell_type": "code",
   "execution_count": null,
   "id": "2a97eb71",
   "metadata": {},
   "outputs": [],
   "source": [
    "#this is to create a timestamp so that you know on which you collected that data\n",
    "import datetime\n",
    "today=datetime.date.today()\n",
    "print(today)"
   ]
  },
  {
   "cell_type": "code",
   "execution_count": 33,
   "id": "cf37ca62",
   "metadata": {},
   "outputs": [],
   "source": [
    "#appending the data to the csv\n",
    "import csv\n",
    "\n",
    "header=['Product','Date']\n",
    "data=[title,today]\n",
    "\n",
    "with open('Amazonwebdata.csv','w',newline='',encoding='UTF8') as f:\n",
    "    writer=csv.writer(f)\n",
    "    writer.writerow(header)\n",
    "    writer.writerow(data)\n",
    "    "
   ]
  },
  {
   "cell_type": "code",
   "execution_count": 36,
   "id": "ae1dd2fd",
   "metadata": {},
   "outputs": [],
   "source": [
    "import pandas as pd\n",
    "data_frame=pd.read_csv('/Users/mohamedaminejmal/Amazonwebdata.csv')"
   ]
  },
  {
   "cell_type": "code",
   "execution_count": null,
   "id": "46abfcb2",
   "metadata": {},
   "outputs": [],
   "source": [
    "#this is putting all the previous code in one function\n",
    "def check_data():\n",
    "    URL = 'https://www.amazon.com/Funny-Data-Systems-Business-Analyst/dp/B07FNW9FGJ/ref=sr_1_3?dchild=1&keywords=data%2Banalyst%2Btshirt&qid=1626655184&sr=8-3&customId=B0752XJYNL&th=1'\n",
    "\n",
    "    headers={\"Accept\": \"text/html,application/xhtml+xml,application/xml;q=0.9,image/avif,image/webp,image/apng,*/*;q=0.8,application/signed-exchange;v=b3;q=0.7\", \n",
    "        \"Accept-Encoding\": \"gzip, deflate, br, zstd\", \n",
    "        \"Accept-Language\": \"en-US,en;q=0.9,ar-TN;q=0.8,ar;q=0.7\", \n",
    "        \"User-Agent\": \"Mozilla/5.0 (Macintosh; Intel Mac OS X 10_15_7) AppleWebKit/537.36 (KHTML, like Gecko) Chrome/125.0.0.0 Safari/537.36\", \n",
    "        }\n",
    "\n",
    "    page = requests.get(URL, headers=headers)\n",
    "\n",
    "\n",
    "    soup1 = BeautifulSoup(page.content, \"html.parser\")\n",
    "\n",
    "    soup2 = BeautifulSoup(soup1.prettify(),\"html.parser\")\n",
    "\n",
    "    title = soup2.find(id='productTitle').get_text()\n",
    "    \n",
    "    title=title.strip()\n",
    "    \n",
    "    import datetime\n",
    "    today=datetime.date.today()\n",
    "    \n",
    "    import csv\n",
    "\n",
    "    header=['Product','Date']\n",
    "    data=[title,today]\n",
    "    \n",
    "    with open('Amazonwebdata.csv','w',newline='',encoding='UTF8') as f:\n",
    "        writer=csv.writer(f)\n",
    "        writer.writerow(header)\n",
    "        writer.writerow(data)\n",
    "    "
   ]
  },
  {
   "cell_type": "code",
   "execution_count": null,
   "id": "a06fef79",
   "metadata": {},
   "outputs": [],
   "source": [
    "#runs the function after a set time (you can personalize it to your liking)\n",
    "while True:\n",
    "    check_data()\n",
    "    time.sleep(86400)"
   ]
  },
  {
   "cell_type": "code",
   "execution_count": null,
   "id": "9d3be231",
   "metadata": {},
   "outputs": [],
   "source": [
    "import pandas as pd\n",
    "data_frame=pd.read_csv('/Users/mohamedaminejmal/Amazonwebdata.csv')\n",
    "print(data_frame)"
   ]
  }
 ],
 "metadata": {
  "kernelspec": {
   "display_name": "Python 3 (ipykernel)",
   "language": "python",
   "name": "python3"
  },
  "language_info": {
   "codemirror_mode": {
    "name": "ipython",
    "version": 3
   },
   "file_extension": ".py",
   "mimetype": "text/x-python",
   "name": "python",
   "nbconvert_exporter": "python",
   "pygments_lexer": "ipython3",
   "version": "3.11.7"
  }
 },
 "nbformat": 4,
 "nbformat_minor": 5
}
